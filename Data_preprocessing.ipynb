{
 "cells": [
  {
   "cell_type": "code",
   "execution_count": 1,
   "metadata": {},
   "outputs": [
    {
     "name": "stderr",
     "output_type": "stream",
     "text": [
      "Using TensorFlow backend.\n"
     ]
    }
   ],
   "source": [
    "import os\n",
    "import random\n",
    "import numpy as np\n",
    "import pandas as pd \n",
    "from skimage import io\n",
    "from skimage import color\n",
    "import matplotlib.pyplot as plt\n",
    "from dask.array.image import imread\n",
    "from dask import bag, threaded\n",
    "from dask.diagnostics import ProgressBar\n",
    "import cv2\n",
    "from sklearn.model_selection import train_test_split\n",
    "import warnings\n",
    "warnings.filterwarnings(\"ignore\")\n",
    "\n",
    "\n",
    "\n",
    "import keras\n",
    "from keras.models import Sequential\n",
    "from keras.layers import Dropout, Flatten, Dense\n",
    "from keras.layers import Flatten,Dropout\n",
    "from keras.layers import Conv2D, MaxPooling2D\n",
    "from keras.utils import to_categorical\n",
    "from keras.preprocessing import image \n",
    "from keras.layers import BatchNormalization\n",
    "from keras import optimizers"
   ]
  },
  {
   "cell_type": "code",
   "execution_count": 2,
   "metadata": {},
   "outputs": [
    {
     "name": "stdout",
     "output_type": "stream",
     "text": [
      "  subject classname            img\n",
      "0    p002        c0  img_44733.jpg\n",
      "1    p002        c0  img_72999.jpg\n",
      "2    p002        c0  img_25094.jpg\n",
      "3    p002        c0  img_69092.jpg\n",
      "4    p002        c0  img_92629.jpg\n"
     ]
    }
   ],
   "source": [
    "driver_details = pd.read_csv('driver_imgs_list.csv',na_values='na')\n",
    "print(driver_details.head(5))"
   ]
  },
  {
   "cell_type": "code",
   "execution_count": 3,
   "metadata": {},
   "outputs": [
    {
     "name": "stdout",
     "output_type": "stream",
     "text": [
      "now we are in the folder C 0\n",
      "now we are in the folder C 1\n",
      "now we are in the folder C 2\n",
      "now we are in the folder C 3\n",
      "now we are in the folder C 4\n",
      "now we are in the folder C 5\n",
      "now we are in the folder C 6\n",
      "now we are in the folder C 7\n",
      "now we are in the folder C 8\n",
      "now we are in the folder C 9\n"
     ]
    }
   ],
   "source": [
    "train_image = []\n",
    "image_label = []\n",
    "\n",
    "\n",
    "for i in range(10):\n",
    "    print('now we are in the folder C',i)\n",
    "    imgs = os.listdir(\"imgs/train/c\"+str(i))\n",
    "    for j in range(1000):\n",
    "        img_name = \"imgs/train/c\"+str(i)+\"/\"+imgs[j]\n",
    "        img = cv2.imread(img_name)\n",
    "        img = img[50:,120:-50]\n",
    "        img = cv2.resize(img,(224,224))\n",
    "        label = i\n",
    "        driver = driver_details[driver_details['img'] == imgs[j]]['subject'].values[0]\n",
    "        train_image.append([img,label,driver])\n",
    "        image_label.append(i)"
   ]
  },
  {
   "cell_type": "code",
   "execution_count": 4,
   "metadata": {},
   "outputs": [],
   "source": [
    "import random\n",
    "random.shuffle(train_image)"
   ]
  },
  {
   "cell_type": "code",
   "execution_count": 5,
   "metadata": {},
   "outputs": [],
   "source": [
    "driv_selected = ['p050', 'p015', 'p022', 'p056']"
   ]
  },
  {
   "cell_type": "code",
   "execution_count": 6,
   "metadata": {},
   "outputs": [
    {
     "name": "stdout",
     "output_type": "stream",
     "text": [
      "8422 1578\n",
      "8422 1578\n"
     ]
    }
   ],
   "source": [
    "X_train= []\n",
    "y_train = []\n",
    "X_test = []\n",
    "y_test = []\n",
    "D_train = []\n",
    "D_test = []\n",
    "\n",
    "for features,labels,drivers in train_image:\n",
    "    if drivers in driv_selected:\n",
    "        X_test.append(features)\n",
    "        y_test.append(labels)\n",
    "        D_test.append(drivers)\n",
    "    \n",
    "    else:\n",
    "        X_train.append(features)\n",
    "        y_train.append(labels)\n",
    "        D_train.append(drivers)\n",
    "    \n",
    "print (len(X_train),len(X_test))\n",
    "print (len(y_train),len(y_test))"
   ]
  },
  {
   "cell_type": "code",
   "execution_count": 7,
   "metadata": {},
   "outputs": [
    {
     "name": "stdout",
     "output_type": "stream",
     "text": [
      "(8422, 224, 224, 3)\n"
     ]
    }
   ],
   "source": [
    "X_train = np.array(X_train).reshape(-1,224,224,3)\n",
    "X_test = np.array(X_test).reshape(-1,224,224,3)\n",
    "y_train = to_categorical(y_train)\n",
    "y_test = to_categorical(y_test)\n",
    "\n",
    "\n",
    "print (X_train.shape)"
   ]
  },
  {
   "cell_type": "code",
   "execution_count": 8,
   "metadata": {},
   "outputs": [],
   "source": [
    "import pickle\n",
    "\n",
    "pickle_out = open(\"X_train.pickle\",\"wb\")\n",
    "pickle.dump(X_train, pickle_out)\n",
    "pickle_out.close()\n",
    "\n",
    "pickle_out = open(\"y_train.pickle\",\"wb\")\n",
    "pickle.dump(y_train, pickle_out)\n",
    "pickle_out.close()\n",
    "\n",
    "pickle_out = open(\"X_test.pickle\",\"wb\")\n",
    "pickle.dump(X_test, pickle_out)\n",
    "pickle_out.close()\n",
    "\n",
    "pickle_out = open(\"y_test.pickle\",\"wb\")\n",
    "pickle.dump(y_test, pickle_out)\n",
    "pickle_out.close()\n",
    "\n"
   ]
  },
  {
   "cell_type": "code",
   "execution_count": null,
   "metadata": {},
   "outputs": [],
   "source": []
  }
 ],
 "metadata": {
  "kernelspec": {
   "display_name": "Python 3",
   "language": "python",
   "name": "python3"
  },
  "language_info": {
   "codemirror_mode": {
    "name": "ipython",
    "version": 3
   },
   "file_extension": ".py",
   "mimetype": "text/x-python",
   "name": "python",
   "nbconvert_exporter": "python",
   "pygments_lexer": "ipython3",
   "version": "3.8.3"
  }
 },
 "nbformat": 4,
 "nbformat_minor": 4
}
